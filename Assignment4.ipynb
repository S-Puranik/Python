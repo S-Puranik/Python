{
 "cells": [
  {
   "cell_type": "code",
   "execution_count": 3,
   "id": "37282956-0d42-4627-ba41-d6ef690ceafb",
   "metadata": {},
   "outputs": [
    {
     "name": "stdin",
     "output_type": "stream",
     "text": [
      "Enter the length of the list:  10\n"
     ]
    },
    {
     "name": "stdout",
     "output_type": "stream",
     "text": [
      "Now enter the integer elements of the list: \n"
     ]
    },
    {
     "name": "stdin",
     "output_type": "stream",
     "text": [
      "Enter the element 1:  1\n",
      "Enter the element 2:  2\n",
      "Enter the element 3:  3\n",
      "Enter the element 4:  4\n",
      "Enter the element 5:  5\n",
      "Enter the element 6:  6\n",
      "Enter the element 7:  7\n",
      "Enter the element 8:  8\n",
      "Enter the element 9:  9\n",
      "Enter the element 10:  10\n"
     ]
    },
    {
     "name": "stdout",
     "output_type": "stream",
     "text": [
      "List is:  [1, 2, 3, 4, 5, 6, 7, 8, 9, 10]  and the sum of all elements in the list is:  55\n"
     ]
    }
   ],
   "source": [
    "#1.\tRead and display list (using loop) with sum all the items in a list.\n",
    "\n",
    "l = int(input(\"Enter the length of the list: \"))\n",
    "listt = []\n",
    "sum = 0\n",
    "\n",
    "print(\"Now enter the integer elements of the list: \")\n",
    "for i in range(l):\n",
    "    element = int(input(f\"Enter the element {i+1}: \"))\n",
    "    temp = element\n",
    "    sum += element\n",
    "    listt.append(element)\n",
    "\n",
    "print(\"List is: \", listt, \" and the sum of all elements in the list is: \", sum)"
   ]
  },
  {
   "cell_type": "code",
   "execution_count": 9,
   "id": "97b4160f-b1ea-441e-a1f7-e4567137fd10",
   "metadata": {},
   "outputs": [
    {
     "name": "stdin",
     "output_type": "stream",
     "text": [
      "Enter the length of the list: 4\n"
     ]
    },
    {
     "name": "stdout",
     "output_type": "stream",
     "text": [
      "Now enter the elements of the list: \n"
     ]
    },
    {
     "name": "stdin",
     "output_type": "stream",
     "text": [
      "Enter the element 1:  Hello World!\n",
      "Enter the element 2:  hello world!\n",
      "Enter the element 3:  HELLO WORLD!\n",
      "Enter the element 4:  hElLo wOrLd!\n",
      "Enter the element to be searched in the list: hElLo wOrLd!\n"
     ]
    },
    {
     "name": "stdout",
     "output_type": "stream",
     "text": [
      "(The element hElLo wOrLd! was found at index location 4.\n"
     ]
    }
   ],
   "source": [
    "#2.\tImplement linear search using list (without using list functions).\n",
    "\n",
    "l = int(input(\"Enter the length of the list:\"))\n",
    "listt = []\n",
    "\n",
    "print(\"Now enter the elements of the list: \")\n",
    "for i in range(l):\n",
    "    element = (input(f\"Enter the element {i+1}: \"))\n",
    "    listt.append(element)\n",
    "\n",
    "choice = input(\"Enter the element to be searched in the list:\")\n",
    "\n",
    "found = False\n",
    "\n",
    "for i in range(l):\n",
    "    if listt[i] == choice:\n",
    "        print(f\"(The element {choice} was found at index location {i+1}.\")\n",
    "        found = True\n",
    "        \n",
    "if not found:\n",
    "    print(f\"The element {choice} was not found in the list.\")"
   ]
  },
  {
   "cell_type": "code",
   "execution_count": 20,
   "id": "6488f80f-66c7-4c04-bf77-e5dbac8e5d4e",
   "metadata": {},
   "outputs": [
    {
     "name": "stdin",
     "output_type": "stream",
     "text": [
      "Enter the 1 integer element of the list:  10\n",
      "Enter the 2 integer element of the list:  12\n",
      "Enter the 3 integer element of the list:  14\n"
     ]
    },
    {
     "name": "stdout",
     "output_type": "stream",
     "text": [
      "List is: [10, 12, 14]\n",
      "\n",
      " Adding 13 in the 4th place\n",
      "List has become: [10, 12, 14, 13]\n",
      "\n",
      " Sorting the list:\n",
      "List is: [10, 12, 13, 14]\n",
      "\n",
      " Deleting the last element of the list\n",
      "List is: [10, 12, 13]\n",
      "\n",
      " Removing 13 from the list:\n",
      "List is: [10, 12]\n",
      "\n",
      " Reversing the list:\n",
      "List is: [12, 10]\n",
      "\n",
      " Appending a number to the list:\n"
     ]
    },
    {
     "name": "stdin",
     "output_type": "stream",
     "text": [
      "Enter a number to append to the list 11\n"
     ]
    },
    {
     "name": "stdout",
     "output_type": "stream",
     "text": [
      "List is: [12, 10, 11]\n",
      "\n",
      " Extending the list with [20,30,40] :\n",
      "List is: [12, 10, 11, 20, 30, 40]\n",
      "\n",
      " There are 6 elements in the list\n"
     ]
    }
   ],
   "source": [
    "# 3. Demonstrate following operations on number list using list functions\n",
    "#    a.\tinsert 13 at position 4\n",
    "#    b.\tSort the list in ascending order\n",
    "#    c.\tdelete the last element\n",
    "#    d.\tremove 13\n",
    "#    e.\tReverse the list\n",
    "#    f.\tAppend one number to list \n",
    "#    g.\textend the list with [20,30,40] \n",
    "#    h.\tprint the number of elements in the list using while\n",
    "\n",
    "lisst = []\n",
    "for i in range(3):\n",
    "    element = int(input(f\"Enter the {i+1} integer element of the list: \"))\n",
    "    lisst.append(element)\n",
    "\n",
    "print(f\"List is: {lisst}\")\n",
    "\n",
    "print(\"\\n Adding 13 in the 4th place\")\n",
    "lisst.insert(4, 13)\n",
    "print(f\"List has become: {lisst}\")\n",
    "\n",
    "print(\"\\n Sorting the list:\")\n",
    "lisst.sort()\n",
    "print(f\"List is: {lisst}\")\n",
    "\n",
    "print(\"\\n Deleting the last element of the list\")\n",
    "lisst.pop()\n",
    "print(f\"List is: {lisst}\")\n",
    "\n",
    "print(\"\\n Removing 13 from the list:\")\n",
    "value_13 = lisst.index(13)\n",
    "lisst.pop(value_13)\n",
    "print(f\"List is: {lisst}\")\n",
    "\n",
    "print(\"\\n Reversing the list:\")\n",
    "lisst.reverse()\n",
    "print(f\"List is: {lisst}\")\n",
    "\n",
    "print(\"\\n Appending a number to the list:\")\n",
    "numm = int(input(\"Enter a number to append to the list\"))\n",
    "lisst.append(numm)\n",
    "print(f\"List is: {lisst}\")\n",
    "\n",
    "print(\"\\n Extending the list with [20,30,40] :\")\n",
    "lisst.extend([20,30,40])\n",
    "print(f\"List is: {lisst}\")\n",
    "\n",
    "summ = 0\n",
    "i = 0\n",
    "while i < len(lisst):\n",
    "    summ += 1\n",
    "    i+= 1\n",
    "\n",
    "print(f\"\\n There are {summ} elements in the list\")"
   ]
  },
  {
   "cell_type": "code",
   "execution_count": 32,
   "id": "0a936402-1bfd-4449-a91d-5b8782d6e39d",
   "metadata": {},
   "outputs": [
    {
     "name": "stdin",
     "output_type": "stream",
     "text": [
      "enter the length of the tuple: 6\n",
      "Enter the elements (integer) of the tuple: 3\n",
      "Enter the elements (integer) of the tuple: 4\n",
      "Enter the elements (integer) of the tuple: 9\n",
      "Enter the elements (integer) of the tuple: 7\n",
      "Enter the elements (integer) of the tuple: 6\n",
      "Enter the elements (integer) of the tuple: 2\n"
     ]
    },
    {
     "name": "stdout",
     "output_type": "stream",
     "text": [
      "Tuple is: (3, 4, 9, 7, 6, 2) the biggest element is 9 and the smallest element is 2\n"
     ]
    }
   ],
   "source": [
    "#4.\tCreate a tuple and find the minimum and maximum number from it. \n",
    "\n",
    "n = int(input(\"enter the length of the tuple:\"))\n",
    "lisst = []\n",
    "\n",
    "for i in range(n):\n",
    "    element = int(input(\"Enter the elements (integer) of the tuple:\"))\n",
    "    lisst.append(element)\n",
    "\n",
    "tup = tuple(lisst) #Created a list and converted it to a tuple.\n",
    "\n",
    "biggest = tup[0]\n",
    "smallest = tup[0]\n",
    "\n",
    "for elements in tup:\n",
    "    if elements > biggest:\n",
    "        biggest = elements\n",
    "    elif elements < smallest:\n",
    "        smallest = elements\n",
    "\n",
    "print(f\"Tuple is: {tup} the biggest element is {biggest} and the smallest element is {smallest}\")"
   ]
  },
  {
   "cell_type": "code",
   "execution_count": null,
   "id": "e420a077-2074-49cf-801f-e2b4995b50ce",
   "metadata": {},
   "outputs": [],
   "source": []
  }
 ],
 "metadata": {
  "kernelspec": {
   "display_name": "Python 3 (ipykernel)",
   "language": "python",
   "name": "python3"
  },
  "language_info": {
   "codemirror_mode": {
    "name": "ipython",
    "version": 3
   },
   "file_extension": ".py",
   "mimetype": "text/x-python",
   "name": "python",
   "nbconvert_exporter": "python",
   "pygments_lexer": "ipython3",
   "version": "3.13.1"
  }
 },
 "nbformat": 4,
 "nbformat_minor": 5
}
